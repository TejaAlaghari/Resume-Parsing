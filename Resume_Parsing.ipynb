{
 "cells": [
  {
   "cell_type": "code",
   "execution_count": 1,
   "metadata": {},
   "outputs": [
    {
     "name": "stdout",
     "output_type": "stream",
     "text": [
      "Start Resume Parsing\n",
      "Emails :\n",
      "\t linda_brown@gmail.com\n",
      "Phone No.s :\n",
      "\t (480) 452-5337\n",
      "Addresses :\n",
      "\t 234 East Speedway Blvd., Tucson, AZ 85719\n"
     ]
    }
   ],
   "source": [
    "#Resume Parsing\n",
    "import tika\n",
    "from tika import parser\n",
    "import re\n",
    "class ResumeParsing :\n",
    "    def run() :\n",
    "        print(\"Start Resume Parsing\")\n",
    "        tika.initVM()\n",
    "        parsed = parser.from_file('Sales_Associate_Resume_Sample.doc')\n",
    "        content = parsed[\"content\"]\n",
    "        \n",
    "        emails = re.findall(r'[\\w\\.-]+@[\\w\\.-]+', content)\n",
    "        phnos = re.findall(r'[(][0-9]{3}[)]\\ [0-9]{3}[-][0-9]{4}', content)\n",
    "        addresses = re.findall(r'[0-9]{3}\\ .*[0-9]{5}', content)\n",
    "        # dates = re.findall(r'[A-Z]{3}\\ [0-9]{4}', content)\n",
    "        # dollars = re.findall(r'\\$[0-9]*[,[0-9]*]*\\ ', content)\n",
    "        \n",
    "        print(\"Emails :\")\n",
    "        for email in emails :\n",
    "            print('\\t', email)\n",
    "            \n",
    "        print(\"Phone No.s :\")\n",
    "        for phno in phnos :\n",
    "            print('\\t', phno)\n",
    "        \n",
    "        print(\"Addresses :\")\n",
    "        for address in addresses :\n",
    "            print('\\t', address)\n",
    "            \n",
    "            \n",
    "    if __name__ == \"__main__\" :\n",
    "        run()"
   ]
  },
  {
   "cell_type": "code",
   "execution_count": null,
   "metadata": {
    "collapsed": true
   },
   "outputs": [],
   "source": []
  }
 ],
 "metadata": {
  "kernelspec": {
   "display_name": "Python 3",
   "language": "python",
   "name": "python3"
  },
  "language_info": {
   "codemirror_mode": {
    "name": "ipython",
    "version": 3
   },
   "file_extension": ".py",
   "mimetype": "text/x-python",
   "name": "python",
   "nbconvert_exporter": "python",
   "pygments_lexer": "ipython3",
   "version": "3.6.1"
  }
 },
 "nbformat": 4,
 "nbformat_minor": 2
}
